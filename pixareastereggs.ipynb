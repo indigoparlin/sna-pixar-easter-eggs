{
  "nbformat": 4,
  "nbformat_minor": 0,
  "metadata": {
    "colab": {
      "provenance": []
    },
    "kernelspec": {
      "name": "python3",
      "display_name": "Python 3"
    },
    "language_info": {
      "name": "python"
    },
    "widgets": {
      "application/vnd.jupyter.widget-state+json": {
        "aa3bc8dc79e249028d70d58b894e5852": {
          "model_module": "ipysigma",
          "model_name": "SigmaModel",
          "model_module_version": "^0.24.1",
          "state": {
            "_dom_classes": [],
            "_model_module": "ipysigma",
            "_model_module_version": "^0.24.1",
            "_model_name": "SigmaModel",
            "_view_count": null,
            "_view_module": "ipysigma",
            "_view_module_version": "^0.24.1",
            "_view_name": "SigmaView",
            "background_color": "white",
            "camera_state": {
              "ratio": 1,
              "x": 0.5,
              "y": 0.5,
              "angle": 0
            },
            "clickable_edges": false,
            "data": {
              "nodes": [
                {
                  "key": "1) Toy Story (1995)",
                  "attributes": {}
                },
                {
                  "key": "2) A Bug’s Life (1998)",
                  "attributes": {}
                },
                {
                  "key": "3) Toy Story 2 (1999)",
                  "attributes": {}
                },
                {
                  "key": "4) Monsters, Inc. (2001)",
                  "attributes": {}
                },
                {
                  "key": "5) Finding Nemo (2003)",
                  "attributes": {}
                },
                {
                  "key": "6) The Incredibles (2004)",
                  "attributes": {}
                },
                {
                  "key": "7) Cars (2006)",
                  "attributes": {}
                },
                {
                  "key": "8) Ratatouille (2007)",
                  "attributes": {}
                },
                {
                  "key": "9) WALL-E (2008)",
                  "attributes": {}
                },
                {
                  "key": "10) Up (2009)",
                  "attributes": {}
                },
                {
                  "key": "11) Toy Story 3 (2010)",
                  "attributes": {}
                },
                {
                  "key": "12) Cars 2 (2011)",
                  "attributes": {}
                },
                {
                  "key": "13) Brave (2012)",
                  "attributes": {}
                },
                {
                  "key": "14) Monsters University (2013)",
                  "attributes": {}
                },
                {
                  "key": "15) Inside Out (2015)",
                  "attributes": {}
                },
                {
                  "key": "16) The Good Dinosaur (2015)",
                  "attributes": {}
                },
                {
                  "key": "17) Finding Dory (2016)",
                  "attributes": {}
                },
                {
                  "key": "18) Cars 3 (2017)",
                  "attributes": {}
                },
                {
                  "key": "19) Coco (2017)",
                  "attributes": {}
                },
                {
                  "key": "20) Incredibles 2 (2018)",
                  "attributes": {}
                },
                {
                  "key": "21) Toy Story 4 (2019)",
                  "attributes": {}
                },
                {
                  "key": "22) Onward (2020)",
                  "attributes": {}
                },
                {
                  "key": "23) Soul (2020)",
                  "attributes": {}
                },
                {
                  "key": "24) Luca (2021)",
                  "attributes": {}
                },
                {
                  "key": "25) Turning Red (2022)",
                  "attributes": {}
                },
                {
                  "key": "26) Lightyear (2022)",
                  "attributes": {}
                },
                {
                  "key": "27) Elemental (2023)",
                  "attributes": {}
                }
              ],
              "edges": [
                {
                  "source": "1) Toy Story (1995)",
                  "target": "1) Toy Story (1995)",
                  "attributes": {
                    "weight": 1
                  }
                },
                {
                  "source": "2) A Bug’s Life (1998)",
                  "target": "1) Toy Story (1995)",
                  "attributes": {
                    "weight": 2
                  }
                },
                {
                  "source": "2) A Bug’s Life (1998)",
                  "target": "5) Finding Nemo (2003)",
                  "attributes": {
                    "weight": 1
                  }
                },
                {
                  "source": "3) Toy Story 2 (1999)",
                  "target": "1) Toy Story (1995)",
                  "attributes": {
                    "weight": 1
                  }
                },
                {
                  "source": "3) Toy Story 2 (1999)",
                  "target": "2) A Bug’s Life (1998)",
                  "attributes": {
                    "weight": 8
                  }
                },
                {
                  "source": "4) Monsters, Inc. (2001)",
                  "target": "1) Toy Story (1995)",
                  "attributes": {
                    "weight": 5
                  }
                },
                {
                  "source": "4) Monsters, Inc. (2001)",
                  "target": "2) A Bug’s Life (1998)",
                  "attributes": {
                    "weight": 1
                  }
                },
                {
                  "source": "4) Monsters, Inc. (2001)",
                  "target": "5) Finding Nemo (2003)",
                  "attributes": {
                    "weight": 2
                  }
                },
                {
                  "source": "5) Finding Nemo (2003)",
                  "target": "1) Toy Story (1995)",
                  "attributes": {
                    "weight": 2
                  }
                },
                {
                  "source": "5) Finding Nemo (2003)",
                  "target": "3) Toy Story 2 (1999)",
                  "attributes": {
                    "weight": 1
                  }
                },
                {
                  "source": "5) Finding Nemo (2003)",
                  "target": "4) Monsters, Inc. (2001)",
                  "attributes": {
                    "weight": 3
                  }
                },
                {
                  "source": "5) Finding Nemo (2003)",
                  "target": "6) The Incredibles (2004)",
                  "attributes": {
                    "weight": 1
                  }
                },
                {
                  "source": "5) Finding Nemo (2003)",
                  "target": "7) Cars (2006)",
                  "attributes": {
                    "weight": 1
                  }
                },
                {
                  "source": "5) Finding Nemo (2003)",
                  "target": "11) Toy Story 3 (2010)",
                  "attributes": {
                    "weight": 1
                  }
                },
                {
                  "source": "5) Finding Nemo (2003)",
                  "target": "14) Monsters University (2013)",
                  "attributes": {
                    "weight": 1
                  }
                },
                {
                  "source": "5) Finding Nemo (2003)",
                  "target": "20) Incredibles 2 (2018)",
                  "attributes": {
                    "weight": 1
                  }
                },
                {
                  "source": "6) The Incredibles (2004)",
                  "target": "1) Toy Story (1995)",
                  "attributes": {
                    "weight": 3
                  }
                },
                {
                  "source": "6) The Incredibles (2004)",
                  "target": "5) Finding Nemo (2003)",
                  "attributes": {
                    "weight": 1
                  }
                },
                {
                  "source": "6) The Incredibles (2004)",
                  "target": "7) Cars (2006)",
                  "attributes": {
                    "weight": 2
                  }
                },
                {
                  "source": "6) The Incredibles (2004)",
                  "target": "21) Toy Story 4 (2019)",
                  "attributes": {
                    "weight": 1
                  }
                },
                {
                  "source": "7) Cars (2006)",
                  "target": "1) Toy Story (1995)",
                  "attributes": {
                    "weight": 3
                  }
                },
                {
                  "source": "7) Cars (2006)",
                  "target": "2) A Bug’s Life (1998)",
                  "attributes": {
                    "weight": 1
                  }
                },
                {
                  "source": "7) Cars (2006)",
                  "target": "3) Toy Story 2 (1999)",
                  "attributes": {
                    "weight": 1
                  }
                },
                {
                  "source": "7) Cars (2006)",
                  "target": "4) Monsters, Inc. (2001)",
                  "attributes": {
                    "weight": 2
                  }
                },
                {
                  "source": "7) Cars (2006)",
                  "target": "11) Toy Story 3 (2010)",
                  "attributes": {
                    "weight": 1
                  }
                },
                {
                  "source": "7) Cars (2006)",
                  "target": "14) Monsters University (2013)",
                  "attributes": {
                    "weight": 2
                  }
                },
                {
                  "source": "7) Cars (2006)",
                  "target": "21) Toy Story 4 (2019)",
                  "attributes": {
                    "weight": 1
                  }
                },
                {
                  "source": "7) Cars (2006)",
                  "target": "26) Lightyear (2022)",
                  "attributes": {
                    "weight": 1
                  }
                },
                {
                  "source": "8) Ratatouille (2007)",
                  "target": "1) Toy Story (1995)",
                  "attributes": {
                    "weight": 1
                  }
                },
                {
                  "source": "8) Ratatouille (2007)",
                  "target": "2) A Bug’s Life (1998)",
                  "attributes": {
                    "weight": 1
                  }
                },
                {
                  "source": "8) Ratatouille (2007)",
                  "target": "6) The Incredibles (2004)",
                  "attributes": {
                    "weight": 2
                  }
                },
                {
                  "source": "8) Ratatouille (2007)",
                  "target": "9) WALL-E (2008)",
                  "attributes": {
                    "weight": 1
                  }
                },
                {
                  "source": "8) Ratatouille (2007)",
                  "target": "10) Up (2009)",
                  "attributes": {
                    "weight": 1
                  }
                },
                {
                  "source": "9) WALL-E (2008)",
                  "target": "1) Toy Story (1995)",
                  "attributes": {
                    "weight": 4
                  }
                },
                {
                  "source": "9) WALL-E (2008)",
                  "target": "3) Toy Story 2 (1999)",
                  "attributes": {
                    "weight": 2
                  }
                },
                {
                  "source": "9) WALL-E (2008)",
                  "target": "4) Monsters, Inc. (2001)",
                  "attributes": {
                    "weight": 1
                  }
                },
                {
                  "source": "9) WALL-E (2008)",
                  "target": "5) Finding Nemo (2003)",
                  "attributes": {
                    "weight": 1
                  }
                },
                {
                  "source": "9) WALL-E (2008)",
                  "target": "6) The Incredibles (2004)",
                  "attributes": {
                    "weight": 1
                  }
                },
                {
                  "source": "9) WALL-E (2008)",
                  "target": "7) Cars (2006)",
                  "attributes": {
                    "weight": 2
                  }
                },
                {
                  "source": "9) WALL-E (2008)",
                  "target": "8) Ratatouille (2007)",
                  "attributes": {
                    "weight": 1
                  }
                },
                {
                  "source": "9) WALL-E (2008)",
                  "target": "10) Up (2009)",
                  "attributes": {
                    "weight": 1
                  }
                },
                {
                  "source": "9) WALL-E (2008)",
                  "target": "11) Toy Story 3 (2010)",
                  "attributes": {
                    "weight": 1
                  }
                },
                {
                  "source": "9) WALL-E (2008)",
                  "target": "21) Toy Story 4 (2019)",
                  "attributes": {
                    "weight": 1
                  }
                },
                {
                  "source": "10) Up (2009)",
                  "target": "1) Toy Story (1995)",
                  "attributes": {
                    "weight": 2
                  }
                },
                {
                  "source": "10) Up (2009)",
                  "target": "4) Monsters, Inc. (2001)",
                  "attributes": {
                    "weight": 1
                  }
                },
                {
                  "source": "10) Up (2009)",
                  "target": "9) WALL-E (2008)",
                  "attributes": {
                    "weight": 1
                  }
                },
                {
                  "source": "10) Up (2009)",
                  "target": "11) Toy Story 3 (2010)",
                  "attributes": {
                    "weight": 1
                  }
                },
                {
                  "source": "11) Toy Story 3 (2010)",
                  "target": "1) Toy Story (1995)",
                  "attributes": {
                    "weight": 2
                  }
                },
                {
                  "source": "11) Toy Story 3 (2010)",
                  "target": "2) A Bug’s Life (1998)",
                  "attributes": {
                    "weight": 3
                  }
                },
                {
                  "source": "11) Toy Story 3 (2010)",
                  "target": "4) Monsters, Inc. (2001)",
                  "attributes": {
                    "weight": 2
                  }
                },
                {
                  "source": "11) Toy Story 3 (2010)",
                  "target": "5) Finding Nemo (2003)",
                  "attributes": {
                    "weight": 3
                  }
                },
                {
                  "source": "11) Toy Story 3 (2010)",
                  "target": "6) The Incredibles (2004)",
                  "attributes": {
                    "weight": 1
                  }
                },
                {
                  "source": "11) Toy Story 3 (2010)",
                  "target": "7) Cars (2006)",
                  "attributes": {
                    "weight": 8
                  }
                },
                {
                  "source": "11) Toy Story 3 (2010)",
                  "target": "9) WALL-E (2008)",
                  "attributes": {
                    "weight": 1
                  }
                },
                {
                  "source": "11) Toy Story 3 (2010)",
                  "target": "10) Up (2009)",
                  "attributes": {
                    "weight": 1
                  }
                },
                {
                  "source": "11) Toy Story 3 (2010)",
                  "target": "12) Cars 2 (2011)",
                  "attributes": {
                    "weight": 2
                  }
                },
                {
                  "source": "12) Cars 2 (2011)",
                  "target": "1) Toy Story (1995)",
                  "attributes": {
                    "weight": 1
                  }
                },
                {
                  "source": "12) Cars 2 (2011)",
                  "target": "6) The Incredibles (2004)",
                  "attributes": {
                    "weight": 1
                  }
                },
                {
                  "source": "12) Cars 2 (2011)",
                  "target": "8) Ratatouille (2007)",
                  "attributes": {
                    "weight": 1
                  }
                },
                {
                  "source": "12) Cars 2 (2011)",
                  "target": "13) Brave (2012)",
                  "attributes": {
                    "weight": 2
                  }
                },
                {
                  "source": "13) Brave (2012)",
                  "target": "1) Toy Story (1995)",
                  "attributes": {
                    "weight": 1
                  }
                },
                {
                  "source": "13) Brave (2012)",
                  "target": "4) Monsters, Inc. (2001)",
                  "attributes": {
                    "weight": 1
                  }
                },
                {
                  "source": "13) Brave (2012)",
                  "target": "14) Monsters University (2013)",
                  "attributes": {
                    "weight": 1
                  }
                },
                {
                  "source": "14) Monsters University (2013)",
                  "target": "1) Toy Story (1995)",
                  "attributes": {
                    "weight": 1
                  }
                },
                {
                  "source": "14) Monsters University (2013)",
                  "target": "4) Monsters, Inc. (2001)",
                  "attributes": {
                    "weight": 1
                  }
                },
                {
                  "source": "14) Monsters University (2013)",
                  "target": "16) The Good Dinosaur (2015)",
                  "attributes": {
                    "weight": 1
                  }
                },
                {
                  "source": "15) Inside Out (2015)",
                  "target": "1) Toy Story (1995)",
                  "attributes": {
                    "weight": 3
                  }
                },
                {
                  "source": "15) Inside Out (2015)",
                  "target": "2) A Bug’s Life (1998)",
                  "attributes": {
                    "weight": 1
                  }
                },
                {
                  "source": "15) Inside Out (2015)",
                  "target": "4) Monsters, Inc. (2001)",
                  "attributes": {
                    "weight": 1
                  }
                },
                {
                  "source": "15) Inside Out (2015)",
                  "target": "5) Finding Nemo (2003)",
                  "attributes": {
                    "weight": 1
                  }
                },
                {
                  "source": "15) Inside Out (2015)",
                  "target": "8) Ratatouille (2007)",
                  "attributes": {
                    "weight": 1
                  }
                },
                {
                  "source": "15) Inside Out (2015)",
                  "target": "10) Up (2009)",
                  "attributes": {
                    "weight": 2
                  }
                },
                {
                  "source": "15) Inside Out (2015)",
                  "target": "11) Toy Story 3 (2010)",
                  "attributes": {
                    "weight": 1
                  }
                },
                {
                  "source": "15) Inside Out (2015)",
                  "target": "12) Cars 2 (2011)",
                  "attributes": {
                    "weight": 1
                  }
                },
                {
                  "source": "15) Inside Out (2015)",
                  "target": "16) The Good Dinosaur (2015)",
                  "attributes": {
                    "weight": 3
                  }
                },
                {
                  "source": "15) Inside Out (2015)",
                  "target": "23) Soul (2020)",
                  "attributes": {
                    "weight": 4
                  }
                },
                {
                  "source": "16) The Good Dinosaur (2015)",
                  "target": "1) Toy Story (1995)",
                  "attributes": {
                    "weight": 1
                  }
                },
                {
                  "source": "16) The Good Dinosaur (2015)",
                  "target": "2) A Bug’s Life (1998)",
                  "attributes": {
                    "weight": 1
                  }
                },
                {
                  "source": "16) The Good Dinosaur (2015)",
                  "target": "15) Inside Out (2015)",
                  "attributes": {
                    "weight": 1
                  }
                },
                {
                  "source": "16) The Good Dinosaur (2015)",
                  "target": "17) Finding Dory (2016)",
                  "attributes": {
                    "weight": 1
                  }
                },
                {
                  "source": "17) Finding Dory (2016)",
                  "target": "1) Toy Story (1995)",
                  "attributes": {
                    "weight": 1
                  }
                },
                {
                  "source": "17) Finding Dory (2016)",
                  "target": "5) Finding Nemo (2003)",
                  "attributes": {
                    "weight": 1
                  }
                },
                {
                  "source": "17) Finding Dory (2016)",
                  "target": "9) WALL-E (2008)",
                  "attributes": {
                    "weight": 1
                  }
                },
                {
                  "source": "17) Finding Dory (2016)",
                  "target": "15) Inside Out (2015)",
                  "attributes": {
                    "weight": 1
                  }
                },
                {
                  "source": "17) Finding Dory (2016)",
                  "target": "18) Cars 3 (2017)",
                  "attributes": {
                    "weight": 1
                  }
                },
                {
                  "source": "18) Cars 3 (2017)",
                  "target": "1) Toy Story (1995)",
                  "attributes": {
                    "weight": 2
                  }
                },
                {
                  "source": "18) Cars 3 (2017)",
                  "target": "9) WALL-E (2008)",
                  "attributes": {
                    "weight": 1
                  }
                },
                {
                  "source": "18) Cars 3 (2017)",
                  "target": "15) Inside Out (2015)",
                  "attributes": {
                    "weight": 1
                  }
                },
                {
                  "source": "18) Cars 3 (2017)",
                  "target": "19) Coco (2017)",
                  "attributes": {
                    "weight": 2
                  }
                },
                {
                  "source": "19) Coco (2017)",
                  "target": "1) Toy Story (1995)",
                  "attributes": {
                    "weight": 4
                  }
                },
                {
                  "source": "19) Coco (2017)",
                  "target": "3) Toy Story 2 (1999)",
                  "attributes": {
                    "weight": 2
                  }
                },
                {
                  "source": "19) Coco (2017)",
                  "target": "4) Monsters, Inc. (2001)",
                  "attributes": {
                    "weight": 2
                  }
                },
                {
                  "source": "19) Coco (2017)",
                  "target": "5) Finding Nemo (2003)",
                  "attributes": {
                    "weight": 2
                  }
                },
                {
                  "source": "19) Coco (2017)",
                  "target": "6) The Incredibles (2004)",
                  "attributes": {
                    "weight": 1
                  }
                },
                {
                  "source": "19) Coco (2017)",
                  "target": "8) Ratatouille (2007)",
                  "attributes": {
                    "weight": 1
                  }
                },
                {
                  "source": "19) Coco (2017)",
                  "target": "11) Toy Story 3 (2010)",
                  "attributes": {
                    "weight": 2
                  }
                },
                {
                  "source": "19) Coco (2017)",
                  "target": "14) Monsters University (2013)",
                  "attributes": {
                    "weight": 2
                  }
                },
                {
                  "source": "19) Coco (2017)",
                  "target": "17) Finding Dory (2016)",
                  "attributes": {
                    "weight": 1
                  }
                },
                {
                  "source": "19) Coco (2017)",
                  "target": "20) Incredibles 2 (2018)",
                  "attributes": {
                    "weight": 1
                  }
                },
                {
                  "source": "19) Coco (2017)",
                  "target": "21) Toy Story 4 (2019)",
                  "attributes": {
                    "weight": 3
                  }
                },
                {
                  "source": "20) Incredibles 2 (2018)",
                  "target": "1) Toy Story (1995)",
                  "attributes": {
                    "weight": 1
                  }
                },
                {
                  "source": "20) Incredibles 2 (2018)",
                  "target": "2) A Bug’s Life (1998)",
                  "attributes": {
                    "weight": 1
                  }
                },
                {
                  "source": "20) Incredibles 2 (2018)",
                  "target": "15) Inside Out (2015)",
                  "attributes": {
                    "weight": 2
                  }
                },
                {
                  "source": "20) Incredibles 2 (2018)",
                  "target": "21) Toy Story 4 (2019)",
                  "attributes": {
                    "weight": 1
                  }
                },
                {
                  "source": "21) Toy Story 4 (2019)",
                  "target": "1) Toy Story (1995)",
                  "attributes": {
                    "weight": 1
                  }
                },
                {
                  "source": "21) Toy Story 4 (2019)",
                  "target": "2) A Bug’s Life (1998)",
                  "attributes": {
                    "weight": 2
                  }
                },
                {
                  "source": "21) Toy Story 4 (2019)",
                  "target": "4) Monsters, Inc. (2001)",
                  "attributes": {
                    "weight": 2
                  }
                },
                {
                  "source": "21) Toy Story 4 (2019)",
                  "target": "5) Finding Nemo (2003)",
                  "attributes": {
                    "weight": 1
                  }
                },
                {
                  "source": "21) Toy Story 4 (2019)",
                  "target": "8) Ratatouille (2007)",
                  "attributes": {
                    "weight": 1
                  }
                },
                {
                  "source": "21) Toy Story 4 (2019)",
                  "target": "9) WALL-E (2008)",
                  "attributes": {
                    "weight": 1
                  }
                },
                {
                  "source": "21) Toy Story 4 (2019)",
                  "target": "10) Up (2009)",
                  "attributes": {
                    "weight": 3
                  }
                },
                {
                  "source": "21) Toy Story 4 (2019)",
                  "target": "12) Cars 2 (2011)",
                  "attributes": {
                    "weight": 1
                  }
                },
                {
                  "source": "21) Toy Story 4 (2019)",
                  "target": "13) Brave (2012)",
                  "attributes": {
                    "weight": 1
                  }
                },
                {
                  "source": "21) Toy Story 4 (2019)",
                  "target": "15) Inside Out (2015)",
                  "attributes": {
                    "weight": 1
                  }
                },
                {
                  "source": "21) Toy Story 4 (2019)",
                  "target": "19) Coco (2017)",
                  "attributes": {
                    "weight": 2
                  }
                },
                {
                  "source": "21) Toy Story 4 (2019)",
                  "target": "22) Onward (2020)",
                  "attributes": {
                    "weight": 1
                  }
                },
                {
                  "source": "22) Onward (2020)",
                  "target": "1) Toy Story (1995)",
                  "attributes": {
                    "weight": 1
                  }
                },
                {
                  "source": "22) Onward (2020)",
                  "target": "8) Ratatouille (2007)",
                  "attributes": {
                    "weight": 1
                  }
                },
                {
                  "source": "22) Onward (2020)",
                  "target": "11) Toy Story 3 (2010)",
                  "attributes": {
                    "weight": 1
                  }
                },
                {
                  "source": "22) Onward (2020)",
                  "target": "13) Brave (2012)",
                  "attributes": {
                    "weight": 1
                  }
                },
                {
                  "source": "22) Onward (2020)",
                  "target": "15) Inside Out (2015)",
                  "attributes": {
                    "weight": 1
                  }
                },
                {
                  "source": "22) Onward (2020)",
                  "target": "21) Toy Story 4 (2019)",
                  "attributes": {
                    "weight": 1
                  }
                },
                {
                  "source": "22) Onward (2020)",
                  "target": "23) Soul (2020)",
                  "attributes": {
                    "weight": 1
                  }
                },
                {
                  "source": "23) Soul (2020)",
                  "target": "1) Toy Story (1995)",
                  "attributes": {
                    "weight": 1
                  }
                },
                {
                  "source": "23) Soul (2020)",
                  "target": "2) A Bug’s Life (1998)",
                  "attributes": {
                    "weight": 1
                  }
                },
                {
                  "source": "23) Soul (2020)",
                  "target": "3) Toy Story 2 (1999)",
                  "attributes": {
                    "weight": 1
                  }
                },
                {
                  "source": "23) Soul (2020)",
                  "target": "4) Monsters, Inc. (2001)",
                  "attributes": {
                    "weight": 1
                  }
                },
                {
                  "source": "23) Soul (2020)",
                  "target": "7) Cars (2006)",
                  "attributes": {
                    "weight": 2
                  }
                },
                {
                  "source": "23) Soul (2020)",
                  "target": "8) Ratatouille (2007)",
                  "attributes": {
                    "weight": 1
                  }
                },
                {
                  "source": "23) Soul (2020)",
                  "target": "9) WALL-E (2008)",
                  "attributes": {
                    "weight": 1
                  }
                },
                {
                  "source": "23) Soul (2020)",
                  "target": "10) Up (2009)",
                  "attributes": {
                    "weight": 4
                  }
                },
                {
                  "source": "23) Soul (2020)",
                  "target": "11) Toy Story 3 (2010)",
                  "attributes": {
                    "weight": 1
                  }
                },
                {
                  "source": "23) Soul (2020)",
                  "target": "12) Cars 2 (2011)",
                  "attributes": {
                    "weight": 1
                  }
                },
                {
                  "source": "23) Soul (2020)",
                  "target": "15) Inside Out (2015)",
                  "attributes": {
                    "weight": 5
                  }
                },
                {
                  "source": "23) Soul (2020)",
                  "target": "17) Finding Dory (2016)",
                  "attributes": {
                    "weight": 2
                  }
                },
                {
                  "source": "23) Soul (2020)",
                  "target": "19) Coco (2017)",
                  "attributes": {
                    "weight": 2
                  }
                },
                {
                  "source": "23) Soul (2020)",
                  "target": "20) Incredibles 2 (2018)",
                  "attributes": {
                    "weight": 1
                  }
                },
                {
                  "source": "23) Soul (2020)",
                  "target": "21) Toy Story 4 (2019)",
                  "attributes": {
                    "weight": 1
                  }
                },
                {
                  "source": "23) Soul (2020)",
                  "target": "24) Luca (2021)",
                  "attributes": {
                    "weight": 1
                  }
                },
                {
                  "source": "24) Luca (2021)",
                  "target": "1) Toy Story (1995)",
                  "attributes": {
                    "weight": 1
                  }
                },
                {
                  "source": "24) Luca (2021)",
                  "target": "8) Ratatouille (2007)",
                  "attributes": {
                    "weight": 1
                  }
                },
                {
                  "source": "24) Luca (2021)",
                  "target": "9) WALL-E (2008)",
                  "attributes": {
                    "weight": 1
                  }
                },
                {
                  "source": "24) Luca (2021)",
                  "target": "10) Up (2009)",
                  "attributes": {
                    "weight": 1
                  }
                },
                {
                  "source": "24) Luca (2021)",
                  "target": "19) Coco (2017)",
                  "attributes": {
                    "weight": 1
                  }
                },
                {
                  "source": "24) Luca (2021)",
                  "target": "25) Turning Red (2022)",
                  "attributes": {
                    "weight": 1
                  }
                },
                {
                  "source": "25) Turning Red (2022)",
                  "target": "1) Toy Story (1995)",
                  "attributes": {
                    "weight": 3
                  }
                },
                {
                  "source": "25) Turning Red (2022)",
                  "target": "3) Toy Story 2 (1999)",
                  "attributes": {
                    "weight": 1
                  }
                },
                {
                  "source": "25) Turning Red (2022)",
                  "target": "5) Finding Nemo (2003)",
                  "attributes": {
                    "weight": 1
                  }
                },
                {
                  "source": "25) Turning Red (2022)",
                  "target": "11) Toy Story 3 (2010)",
                  "attributes": {
                    "weight": 1
                  }
                },
                {
                  "source": "25) Turning Red (2022)",
                  "target": "15) Inside Out (2015)",
                  "attributes": {
                    "weight": 2
                  }
                },
                {
                  "source": "25) Turning Red (2022)",
                  "target": "19) Coco (2017)",
                  "attributes": {
                    "weight": 1
                  }
                },
                {
                  "source": "25) Turning Red (2022)",
                  "target": "21) Toy Story 4 (2019)",
                  "attributes": {
                    "weight": 1
                  }
                },
                {
                  "source": "25) Turning Red (2022)",
                  "target": "26) Lightyear (2022)",
                  "attributes": {
                    "weight": 1
                  }
                },
                {
                  "source": "26) Lightyear (2022)",
                  "target": "1) Toy Story (1995)",
                  "attributes": {
                    "weight": 1
                  }
                },
                {
                  "source": "26) Lightyear (2022)",
                  "target": "3) Toy Story 2 (1999)",
                  "attributes": {
                    "weight": 1
                  }
                },
                {
                  "source": "26) Lightyear (2022)",
                  "target": "4) Monsters, Inc. (2001)",
                  "attributes": {
                    "weight": 1
                  }
                },
                {
                  "source": "26) Lightyear (2022)",
                  "target": "9) WALL-E (2008)",
                  "attributes": {
                    "weight": 1
                  }
                },
                {
                  "source": "26) Lightyear (2022)",
                  "target": "22) Onward (2020)",
                  "attributes": {
                    "weight": 1
                  }
                },
                {
                  "source": "26) Lightyear (2022)",
                  "target": "27) Elemental (2023)",
                  "attributes": {
                    "weight": 1
                  }
                }
              ],
              "options": {
                "type": "directed",
                "multi": false
              }
            },
            "edge_weight": "weight",
            "height": "500px",
            "layout": {
              "1) Toy Story (1995)": {
                "x": 0.15428948876230283,
                "y": 0.25273986629959766
              },
              "2) A Bug’s Life (1998)": {
                "x": 0.5762050567157171,
                "y": 0.8675055755423209
              },
              "3) Toy Story 2 (1999)": {
                "x": 0.4923045147706771,
                "y": 0.7549328770522359
              },
              "4) Monsters, Inc. (2001)": {
                "x": 0.536310160588477,
                "y": 0.6607164922702594
              },
              "5) Finding Nemo (2003)": {
                "x": 0.17898877761019927,
                "y": 0.7423470400617883
              },
              "6) The Incredibles (2004)": {
                "x": 0.7654569574501733,
                "y": 0.2409002179776765
              },
              "7) Cars (2006)": {
                "x": 0.8666364121438902,
                "y": 0.3612731622048909
              },
              "8) Ratatouille (2007)": {
                "x": 0.3750092524652347,
                "y": 0.43898357292952234
              },
              "9) WALL-E (2008)": {
                "x": 0.686974614630136,
                "y": 0.44860358368004677
              },
              "10) Up (2009)": {
                "x": 0.40559004582969205,
                "y": 0.8051142792853555
              },
              "11) Toy Story 3 (2010)": {
                "x": 0.2755987667745767,
                "y": 0.4476774839346224
              },
              "12) Cars 2 (2011)": {
                "x": 0.692315680725632,
                "y": 0.22264914856719326
              },
              "13) Brave (2012)": {
                "x": 0.6517501069627378,
                "y": 0.3711104926111498
              },
              "14) Monsters University (2013)": {
                "x": 0.2111467647774474,
                "y": 0.09947058602301147
              },
              "15) Inside Out (2015)": {
                "x": 0.599929496786351,
                "y": 0.0787483076490472
              },
              "16) The Good Dinosaur (2015)": {
                "x": 0.5204078971266999,
                "y": 0.5260697341972731
              },
              "17) Finding Dory (2016)": {
                "x": 0.25573721555965384,
                "y": 0.4088724813190393
              },
              "18) Cars 3 (2017)": {
                "x": 0.5090945503764583,
                "y": 0.9307895945490127
              },
              "19) Coco (2017)": {
                "x": 0.8692163042898542,
                "y": 0.057695617745493095
              },
              "20) Incredibles 2 (2018)": {
                "x": 0.6648696591608955,
                "y": 0.2771631331049608
              },
              "21) Toy Story 4 (2019)": {
                "x": 0.9388512412625218,
                "y": 0.4202011229550135
              },
              "22) Onward (2020)": {
                "x": 0.9903121819953321,
                "y": 0.8396316085367288
              },
              "23) Soul (2020)": {
                "x": 0.19290933687632567,
                "y": 0.5507513853687954
              },
              "24) Luca (2021)": {
                "x": 0.899447997714133,
                "y": 0.9174842837776478
              },
              "25) Turning Red (2022)": {
                "x": 0.6178053192816517,
                "y": 0.6820744741878634
              },
              "26) Lightyear (2022)": {
                "x": 0.9153738228544446,
                "y": 0.8146601187658415
              },
              "27) Elemental (2023)": {
                "x": 0.9986165908231301,
                "y": 0.7337777626358047
              }
            },
            "layout_settings": null,
            "max_categorical_colors": 10,
            "name": null,
            "node_metrics": {},
            "program_settings": {},
            "renderer_settings": {
              "zIndex": true,
              "enableEdgeClickEvents": false,
              "enableEdgeHoverEvents": false,
              "labelDensity": 1,
              "labelGridCellSize": 250,
              "renderEdgeLabels": true,
              "labelFont": "sans-serif",
              "hideEdgesOnMove": false,
              "defaultNodeType": "point",
              "defaultEdgeType": "arrow"
            },
            "selected_edge": null,
            "selected_edge_category_values": null,
            "selected_node": null,
            "selected_node_category_values": null,
            "snapshot": null,
            "start_layout": false,
            "start_layout_for_seconds": null,
            "sync_key": null,
            "sync_targets": [
              "camera",
              "layout",
              "selection",
              "hover"
            ],
            "ui_settings": {
              "hideInfoPanel": false,
              "hideSearch": false
            },
            "visual_variables": {
              "nodeLabel": {
                "type": "raw",
                "attribute": "label",
                "default": null
              },
              "nodeLabelSize": {
                "type": "constant",
                "default": 12
              },
              "nodeLabelColor": {
                "type": "constant",
                "default": "#000"
              },
              "nodeColor": {
                "type": "raw",
                "attribute": "color",
                "default": "#999"
              },
              "nodeColorSaturation": {
                "type": "disabled",
                "default": null
              },
              "nodeBorderColor": {
                "type": "disabled",
                "default": null
              },
              "nodeBorderRatio": {
                "type": "disabled",
                "default": null
              },
              "nodeBorderSize": {
                "type": "constant",
                "default": 1
              },
              "nodeSize": {
                "type": "continuous",
                "range": [
                  3,
                  15
                ],
                "attribute": "size",
                "default": 3
              },
              "nodePictogram": {
                "type": "disabled",
                "default": null
              },
              "nodePictogramColor": {
                "type": "constant",
                "default": "#000"
              },
              "nodeHaloSize": {
                "type": "disabled",
                "default": null
              },
              "nodeHaloColor": {
                "type": "constant",
                "default": "red"
              },
              "nodeShape": {
                "type": "disabled",
                "default": null
              },
              "edgeLabel": {
                "type": "raw",
                "attribute": "label",
                "default": null
              },
              "edgeColor": {
                "type": "raw",
                "attribute": "color",
                "default": "#ccc"
              },
              "edgeSize": {
                "type": "continuous",
                "range": [
                  0.5,
                  10
                ],
                "attribute": "size",
                "default": 0.5
              },
              "edgeCurveness": {
                "type": "constant",
                "default": 0.25
              }
            }
          }
        }
      }
    }
  },
  "cells": [
    {
      "cell_type": "markdown",
      "source": [
        "**SNA FINAL PROJECT: PIXAR EASTER EGGS** \n",
        "Indigo, Annie, and Sophie"
      ],
      "metadata": {
        "id": "4T4u_RdKIYkS"
      }
    },
    {
      "cell_type": "markdown",
      "source": [
        "Change csv into a matrix."
      ],
      "metadata": {
        "id": "8TqMIMniImK9"
      }
    },
    {
      "cell_type": "code",
      "execution_count": 2,
      "metadata": {
        "colab": {
          "base_uri": "https://localhost:8080/"
        },
        "id": "GHVqtN08PrRq",
        "outputId": "0efa3703-7184-43d3-deb9-bef676e7227a"
      },
      "outputs": [
        {
          "output_type": "stream",
          "name": "stdout",
          "text": [
            "[['', '1) Toy Story (1995)', '2) A Bug’s Life (1998)', '3) Toy Story 2 (1999)', '4) Monsters, Inc. (2001)', '5) Finding Nemo (2003)', '6) The Incredibles (2004)', '7) Cars (2006)', '8) Ratatouille (2007)', '9) WALL-E (2008)', '10) Up (2009)', '11) Toy Story 3 (2010)', '12) Cars 2 (2011)', '13) Brave (2012)', '14) Monsters University (2013)', '15) Inside Out (2015)', '16) The Good Dinosaur (2015)', '17) Finding Dory (2016)', '18) Cars 3 (2017)', '19) Coco (2017)', '20) Incredibles 2 (2018)', '21) Toy Story 4 (2019)', '22) Onward (2020)', '23) Soul (2020)', '24) Luca (2021)', '25) Turning Red (2022)', '26) Lightyear (2022)', '27) Elemental (2023)'], ['1) Toy Story (1995)', '1', '', '', '', '', '', '', '', '', '', '', '', '', '', '', '', '', '', '', '', '', '', '', '', '', '', ''], ['2) A Bug’s Life (1998)', '2', '', '', '', '1', '', '', '', '', '', '', '', '', '', '', '', '', '', '', '', '', '', '', '', '', '', ''], ['3) Toy Story 2 (1999)', '1', '8', '', '', '', '', '', '', '', '', '', '', '', '', '', '', '', '', '', '', '', '', '', '', '', '', ''], ['4) Monsters, Inc. (2001)', '5', '1', '', '', '2', '', '', '', '', '', '', '', '', '', '', '', '', '', '', '', '', '', '', '', '', '', ''], ['5) Finding Nemo (2003)', '2', '', '1', '3', '', '1', '1', '', '', '', '1', '', '', '1', '', '', '', '', '', '1', '', '', '', '', '', '', ''], ['6) The Incredibles (2004)', '3', '', '', '', '1', '', '2', '', '', '', '', '', '', '', '', '', '', '', '', '', '1', '', '', '', '', '', ''], ['7) Cars (2006)', '3', '1', '1', '2', '', '', '', '', '', '', '1', '', '', '2', '', '', '', '', '', '', '1', '', '', '', '', '1', ''], ['8) Ratatouille (2007)', '1', '1', '', '', '', '2', '', '', '1', '1', '', '', '', '', '', '', '', '', '', '', '', '', '', '', '', '', ''], ['9) WALL-E (2008)', '4', '', '2', '1', '1', '1', '2', '1', '', '1', '1', '', '', '', '', '', '', '', '', '', '1', '', '', '', '', '', ''], ['10) Up (2009)', '2', '', '', '1', '', '', '', '', '1', '', '1', '', '', '', '', '', '', '', '', '', '', '', '', '', '', '', ''], ['11) Toy Story 3 (2010)', '2', '3', '', '2', '3', '1', '8', '', '1', '1', '', '2', '', '', '', '', '', '', '', '', '', '', '', '', '', '', ''], ['12) Cars 2 (2011)', '1', '', '', '', '', '1', '', '1', '', '', '', '', '2', '', '', '', '', '', '', '', '', '', '', '', '', '', ''], ['13) Brave (2012)', '1', '', '', '1', '', '', '', '', '', '', '', '', '', '1', '', '', '', '', '', '', '', '', '', '', '', '', ''], ['14) Monsters University (2013)', '1', '', '', '1', '', '', '', '', '', '', '', '', '', '', '', '1', '', '', '', '', '', '', '', '', '', '', ''], ['15) Inside Out (2015)', '3', '1', '', '1', '1', '', '', '1', '', '2', '1', '1', '', '', '', '3', '', '', '', '', '', '', '4', '', '', '', ''], ['16) The Good Dinosaur (2015)', '1', '1', '', '', '', '', '', '', '', '', '', '', '', '', '1', '', '1', '', '', '', '', '', '', '', '', '', ''], ['17) Finding Dory (2016)', '1', '', '', '', '1', '', '', '', '1', '', '', '', '', '', '1', '', '', '1', '', '', '', '', '', '', '', '', ''], ['18) Cars 3 (2017)', '2', '', '', '', '', '', '', '', '1', '', '', '', '', '', '1', '', '', '', '2', '', '', '', '', '', '', '', ''], ['19) Coco (2017)', '4', '', '2', '2', '2', '1', '', '1', '', '', '2', '', '', '2', '', '', '1', '', '', '1', '3', '', '', '', '', '', ''], ['20) Incredibles 2 (2018)', '1', '1', '', '', '', '', '', '', '', '', '', '', '', '', '2', '', '', '', '', '', '1', '', '', '', '', '', ''], ['21) Toy Story 4 (2019)', '1', '2', '', '2', '1', '', '', '1', '1', '3', '', '1', '1', '', '1', '', '', '', '2', '', '', '1', '', '', '', '', ''], ['22) Onward (2020)', '1', '', '', '', '', '', '', '1', '', '', '1', '', '1', '', '1', '', '', '', '', '', '1', '', '1', '', '', '', ''], ['23) Soul (2020)', '1', '1', '1', '1', '', '', '2', '1', '1', '4', '1', '1', '', '', '5', '', '2', '', '2', '1', '1', ' ', '', '1', '', '', ''], ['24) Luca (2021)', '1', '', '', '', '', '', '', '1', '1', '1', '', '', '', '', '', '', '', '', '1', '', '', '', '', '', '1', '', ''], ['25) Turning Red (2022)', '3', '', '1', '', '1', '', '', '', '', '', '1', '', '', '', '2', '', '', '', '1', '', '1', '', '', '', '', '1', ''], ['26) Lightyear (2022)', '1', '', '1', '1', '', '', '', '', '1', '', '', '', '', '', '', '', '', '', '', '', '', '1', '', '', '', '', '1'], ['27) Elemental (2023)', '', '', '', '', '', '', '', '', '', '', '', '', '', '', '', '', '', '', '', '', '', '', '', '', '', '', '']]\n"
          ]
        }
      ],
      "source": [
        "import csv\n",
        "\n",
        "# list for a matrix representation\n",
        "rows = []\n",
        "with open(\"eastereggs.csv\", 'r') as file:\n",
        "    csvreader = csv.reader(file)\n",
        "    header = next(csvreader)\n",
        "    rows.append(header)\n",
        "    for row in csvreader:\n",
        "        rows.append(row)\n",
        "\n",
        "print(rows)"
      ]
    },
    {
      "cell_type": "markdown",
      "source": [
        "Create nodes from the movie titles. "
      ],
      "metadata": {
        "id": "qjZ4vVfiIqx_"
      }
    },
    {
      "cell_type": "code",
      "source": [
        "import networkx as nx\n",
        "G = nx.DiGraph()\n",
        "\n",
        "G.add_nodes_from(rows[0][1:])\n",
        "G.nodes()"
      ],
      "metadata": {
        "colab": {
          "base_uri": "https://localhost:8080/"
        },
        "id": "0E0qnPGY6O2y",
        "outputId": "8b2fc078-a17f-4cea-af59-3cb23dd97c1d"
      },
      "execution_count": 3,
      "outputs": [
        {
          "output_type": "execute_result",
          "data": {
            "text/plain": [
              "NodeView(('1) Toy Story (1995)', '2) A Bug’s Life (1998)', '3) Toy Story 2 (1999)', '4) Monsters, Inc. (2001)', '5) Finding Nemo (2003)', '6) The Incredibles (2004)', '7) Cars (2006)', '8) Ratatouille (2007)', '9) WALL-E (2008)', '10) Up (2009)', '11) Toy Story 3 (2010)', '12) Cars 2 (2011)', '13) Brave (2012)', '14) Monsters University (2013)', '15) Inside Out (2015)', '16) The Good Dinosaur (2015)', '17) Finding Dory (2016)', '18) Cars 3 (2017)', '19) Coco (2017)', '20) Incredibles 2 (2018)', '21) Toy Story 4 (2019)', '22) Onward (2020)', '23) Soul (2020)', '24) Luca (2021)', '25) Turning Red (2022)', '26) Lightyear (2022)', '27) Elemental (2023)'))"
            ]
          },
          "metadata": {},
          "execution_count": 3
        }
      ]
    },
    {
      "cell_type": "markdown",
      "source": [
        "Add the edges based on matrix data. "
      ],
      "metadata": {
        "id": "5Att9u9IItoE"
      }
    },
    {
      "cell_type": "code",
      "source": [
        "for i in range(1,len(rows)):\n",
        "  for j in range(1, len(rows[0])):\n",
        "    if rows[i][j] != '' and rows[i][j]!= \" \":\n",
        "      weight = int(rows[i][j])\n",
        "      G.add_weighted_edges_from([(rows[i][0], rows[0][j], weight)])"
      ],
      "metadata": {
        "id": "7m3B34UE9Q-X"
      },
      "execution_count": 4,
      "outputs": []
    },
    {
      "cell_type": "code",
      "source": [
        "!pip install ipysigma"
      ],
      "metadata": {
        "colab": {
          "base_uri": "https://localhost:8080/"
        },
        "id": "UYHSbos5FhLS",
        "outputId": "34f78b38-6188-4ccf-a25f-db596e885fd8"
      },
      "execution_count": 5,
      "outputs": [
        {
          "output_type": "stream",
          "name": "stdout",
          "text": [
            "Looking in indexes: https://pypi.org/simple, https://us-python.pkg.dev/colab-wheels/public/simple/\n",
            "Collecting ipysigma\n",
            "  Downloading ipysigma-0.24.1-py2.py3-none-any.whl (2.6 MB)\n",
            "\u001b[2K     \u001b[90m━━━━━━━━━━━━━━━━━━━━━━━━━━━━━━━━━━━━━━━━\u001b[0m \u001b[32m2.6/2.6 MB\u001b[0m \u001b[31m32.7 MB/s\u001b[0m eta \u001b[36m0:00:00\u001b[0m\n",
            "\u001b[?25hRequirement already satisfied: ipywidgets>=7.0.0 in /usr/local/lib/python3.9/dist-packages (from ipysigma) (7.7.1)\n",
            "Requirement already satisfied: ipython-genutils~=0.2.0 in /usr/local/lib/python3.9/dist-packages (from ipywidgets>=7.0.0->ipysigma) (0.2.0)\n",
            "Requirement already satisfied: ipython>=4.0.0 in /usr/local/lib/python3.9/dist-packages (from ipywidgets>=7.0.0->ipysigma) (7.34.0)\n",
            "Requirement already satisfied: jupyterlab-widgets>=1.0.0 in /usr/local/lib/python3.9/dist-packages (from ipywidgets>=7.0.0->ipysigma) (3.0.7)\n",
            "Requirement already satisfied: ipykernel>=4.5.1 in /usr/local/lib/python3.9/dist-packages (from ipywidgets>=7.0.0->ipysigma) (5.5.6)\n",
            "Requirement already satisfied: traitlets>=4.3.1 in /usr/local/lib/python3.9/dist-packages (from ipywidgets>=7.0.0->ipysigma) (5.7.1)\n",
            "Requirement already satisfied: widgetsnbextension~=3.6.0 in /usr/local/lib/python3.9/dist-packages (from ipywidgets>=7.0.0->ipysigma) (3.6.4)\n",
            "Requirement already satisfied: jupyter-client in /usr/local/lib/python3.9/dist-packages (from ipykernel>=4.5.1->ipywidgets>=7.0.0->ipysigma) (6.1.12)\n",
            "Requirement already satisfied: tornado>=4.2 in /usr/local/lib/python3.9/dist-packages (from ipykernel>=4.5.1->ipywidgets>=7.0.0->ipysigma) (6.2)\n",
            "Collecting jedi>=0.16\n",
            "  Downloading jedi-0.18.2-py2.py3-none-any.whl (1.6 MB)\n",
            "\u001b[2K     \u001b[90m━━━━━━━━━━━━━━━━━━━━━━━━━━━━━━━━━━━━━━━━\u001b[0m \u001b[32m1.6/1.6 MB\u001b[0m \u001b[31m81.6 MB/s\u001b[0m eta \u001b[36m0:00:00\u001b[0m\n",
            "\u001b[?25hRequirement already satisfied: backcall in /usr/local/lib/python3.9/dist-packages (from ipython>=4.0.0->ipywidgets>=7.0.0->ipysigma) (0.2.0)\n",
            "Requirement already satisfied: setuptools>=18.5 in /usr/local/lib/python3.9/dist-packages (from ipython>=4.0.0->ipywidgets>=7.0.0->ipysigma) (67.6.1)\n",
            "Requirement already satisfied: pexpect>4.3 in /usr/local/lib/python3.9/dist-packages (from ipython>=4.0.0->ipywidgets>=7.0.0->ipysigma) (4.8.0)\n",
            "Requirement already satisfied: pygments in /usr/local/lib/python3.9/dist-packages (from ipython>=4.0.0->ipywidgets>=7.0.0->ipysigma) (2.14.0)\n",
            "Requirement already satisfied: matplotlib-inline in /usr/local/lib/python3.9/dist-packages (from ipython>=4.0.0->ipywidgets>=7.0.0->ipysigma) (0.1.6)\n",
            "Requirement already satisfied: decorator in /usr/local/lib/python3.9/dist-packages (from ipython>=4.0.0->ipywidgets>=7.0.0->ipysigma) (4.4.2)\n",
            "Requirement already satisfied: prompt-toolkit!=3.0.0,!=3.0.1,<3.1.0,>=2.0.0 in /usr/local/lib/python3.9/dist-packages (from ipython>=4.0.0->ipywidgets>=7.0.0->ipysigma) (3.0.38)\n",
            "Requirement already satisfied: pickleshare in /usr/local/lib/python3.9/dist-packages (from ipython>=4.0.0->ipywidgets>=7.0.0->ipysigma) (0.7.5)\n",
            "Requirement already satisfied: notebook>=4.4.1 in /usr/local/lib/python3.9/dist-packages (from widgetsnbextension~=3.6.0->ipywidgets>=7.0.0->ipysigma) (6.4.8)\n",
            "Requirement already satisfied: parso<0.9.0,>=0.8.0 in /usr/local/lib/python3.9/dist-packages (from jedi>=0.16->ipython>=4.0.0->ipywidgets>=7.0.0->ipysigma) (0.8.3)\n",
            "Requirement already satisfied: nbconvert in /usr/local/lib/python3.9/dist-packages (from notebook>=4.4.1->widgetsnbextension~=3.6.0->ipywidgets>=7.0.0->ipysigma) (6.5.4)\n",
            "Requirement already satisfied: jinja2 in /usr/local/lib/python3.9/dist-packages (from notebook>=4.4.1->widgetsnbextension~=3.6.0->ipywidgets>=7.0.0->ipysigma) (3.1.2)\n",
            "Requirement already satisfied: pyzmq>=17 in /usr/local/lib/python3.9/dist-packages (from notebook>=4.4.1->widgetsnbextension~=3.6.0->ipywidgets>=7.0.0->ipysigma) (23.2.1)\n",
            "Requirement already satisfied: terminado>=0.8.3 in /usr/local/lib/python3.9/dist-packages (from notebook>=4.4.1->widgetsnbextension~=3.6.0->ipywidgets>=7.0.0->ipysigma) (0.17.1)\n",
            "Requirement already satisfied: prometheus-client in /usr/local/lib/python3.9/dist-packages (from notebook>=4.4.1->widgetsnbextension~=3.6.0->ipywidgets>=7.0.0->ipysigma) (0.16.0)\n",
            "Requirement already satisfied: argon2-cffi in /usr/local/lib/python3.9/dist-packages (from notebook>=4.4.1->widgetsnbextension~=3.6.0->ipywidgets>=7.0.0->ipysigma) (21.3.0)\n",
            "Requirement already satisfied: jupyter-core>=4.6.1 in /usr/local/lib/python3.9/dist-packages (from notebook>=4.4.1->widgetsnbextension~=3.6.0->ipywidgets>=7.0.0->ipysigma) (5.3.0)\n",
            "Requirement already satisfied: nbformat in /usr/local/lib/python3.9/dist-packages (from notebook>=4.4.1->widgetsnbextension~=3.6.0->ipywidgets>=7.0.0->ipysigma) (5.8.0)\n",
            "Requirement already satisfied: Send2Trash>=1.8.0 in /usr/local/lib/python3.9/dist-packages (from notebook>=4.4.1->widgetsnbextension~=3.6.0->ipywidgets>=7.0.0->ipysigma) (1.8.0)\n",
            "Requirement already satisfied: nest-asyncio>=1.5 in /usr/local/lib/python3.9/dist-packages (from notebook>=4.4.1->widgetsnbextension~=3.6.0->ipywidgets>=7.0.0->ipysigma) (1.5.6)\n",
            "Requirement already satisfied: python-dateutil>=2.1 in /usr/local/lib/python3.9/dist-packages (from jupyter-client->ipykernel>=4.5.1->ipywidgets>=7.0.0->ipysigma) (2.8.2)\n",
            "Requirement already satisfied: ptyprocess>=0.5 in /usr/local/lib/python3.9/dist-packages (from pexpect>4.3->ipython>=4.0.0->ipywidgets>=7.0.0->ipysigma) (0.7.0)\n",
            "Requirement already satisfied: wcwidth in /usr/local/lib/python3.9/dist-packages (from prompt-toolkit!=3.0.0,!=3.0.1,<3.1.0,>=2.0.0->ipython>=4.0.0->ipywidgets>=7.0.0->ipysigma) (0.2.6)\n",
            "Requirement already satisfied: platformdirs>=2.5 in /usr/local/lib/python3.9/dist-packages (from jupyter-core>=4.6.1->notebook>=4.4.1->widgetsnbextension~=3.6.0->ipywidgets>=7.0.0->ipysigma) (3.2.0)\n",
            "Requirement already satisfied: six>=1.5 in /usr/local/lib/python3.9/dist-packages (from python-dateutil>=2.1->jupyter-client->ipykernel>=4.5.1->ipywidgets>=7.0.0->ipysigma) (1.16.0)\n",
            "Requirement already satisfied: argon2-cffi-bindings in /usr/local/lib/python3.9/dist-packages (from argon2-cffi->notebook>=4.4.1->widgetsnbextension~=3.6.0->ipywidgets>=7.0.0->ipysigma) (21.2.0)\n",
            "Requirement already satisfied: MarkupSafe>=2.0 in /usr/local/lib/python3.9/dist-packages (from jinja2->notebook>=4.4.1->widgetsnbextension~=3.6.0->ipywidgets>=7.0.0->ipysigma) (2.1.2)\n",
            "Requirement already satisfied: entrypoints>=0.2.2 in /usr/local/lib/python3.9/dist-packages (from nbconvert->notebook>=4.4.1->widgetsnbextension~=3.6.0->ipywidgets>=7.0.0->ipysigma) (0.4)\n",
            "Requirement already satisfied: jupyterlab-pygments in /usr/local/lib/python3.9/dist-packages (from nbconvert->notebook>=4.4.1->widgetsnbextension~=3.6.0->ipywidgets>=7.0.0->ipysigma) (0.2.2)\n",
            "Requirement already satisfied: packaging in /usr/local/lib/python3.9/dist-packages (from nbconvert->notebook>=4.4.1->widgetsnbextension~=3.6.0->ipywidgets>=7.0.0->ipysigma) (23.0)\n",
            "Requirement already satisfied: mistune<2,>=0.8.1 in /usr/local/lib/python3.9/dist-packages (from nbconvert->notebook>=4.4.1->widgetsnbextension~=3.6.0->ipywidgets>=7.0.0->ipysigma) (0.8.4)\n",
            "Requirement already satisfied: defusedxml in /usr/local/lib/python3.9/dist-packages (from nbconvert->notebook>=4.4.1->widgetsnbextension~=3.6.0->ipywidgets>=7.0.0->ipysigma) (0.7.1)\n",
            "Requirement already satisfied: lxml in /usr/local/lib/python3.9/dist-packages (from nbconvert->notebook>=4.4.1->widgetsnbextension~=3.6.0->ipywidgets>=7.0.0->ipysigma) (4.9.2)\n",
            "Requirement already satisfied: bleach in /usr/local/lib/python3.9/dist-packages (from nbconvert->notebook>=4.4.1->widgetsnbextension~=3.6.0->ipywidgets>=7.0.0->ipysigma) (6.0.0)\n",
            "Requirement already satisfied: beautifulsoup4 in /usr/local/lib/python3.9/dist-packages (from nbconvert->notebook>=4.4.1->widgetsnbextension~=3.6.0->ipywidgets>=7.0.0->ipysigma) (4.11.2)\n",
            "Requirement already satisfied: nbclient>=0.5.0 in /usr/local/lib/python3.9/dist-packages (from nbconvert->notebook>=4.4.1->widgetsnbextension~=3.6.0->ipywidgets>=7.0.0->ipysigma) (0.7.3)\n",
            "Requirement already satisfied: tinycss2 in /usr/local/lib/python3.9/dist-packages (from nbconvert->notebook>=4.4.1->widgetsnbextension~=3.6.0->ipywidgets>=7.0.0->ipysigma) (1.2.1)\n",
            "Requirement already satisfied: pandocfilters>=1.4.1 in /usr/local/lib/python3.9/dist-packages (from nbconvert->notebook>=4.4.1->widgetsnbextension~=3.6.0->ipywidgets>=7.0.0->ipysigma) (1.5.0)\n",
            "Requirement already satisfied: fastjsonschema in /usr/local/lib/python3.9/dist-packages (from nbformat->notebook>=4.4.1->widgetsnbextension~=3.6.0->ipywidgets>=7.0.0->ipysigma) (2.16.3)\n",
            "Requirement already satisfied: jsonschema>=2.6 in /usr/local/lib/python3.9/dist-packages (from nbformat->notebook>=4.4.1->widgetsnbextension~=3.6.0->ipywidgets>=7.0.0->ipysigma) (4.3.3)\n",
            "Requirement already satisfied: pyrsistent!=0.17.0,!=0.17.1,!=0.17.2,>=0.14.0 in /usr/local/lib/python3.9/dist-packages (from jsonschema>=2.6->nbformat->notebook>=4.4.1->widgetsnbextension~=3.6.0->ipywidgets>=7.0.0->ipysigma) (0.19.3)\n",
            "Requirement already satisfied: attrs>=17.4.0 in /usr/local/lib/python3.9/dist-packages (from jsonschema>=2.6->nbformat->notebook>=4.4.1->widgetsnbextension~=3.6.0->ipywidgets>=7.0.0->ipysigma) (22.2.0)\n",
            "Requirement already satisfied: cffi>=1.0.1 in /usr/local/lib/python3.9/dist-packages (from argon2-cffi-bindings->argon2-cffi->notebook>=4.4.1->widgetsnbextension~=3.6.0->ipywidgets>=7.0.0->ipysigma) (1.15.1)\n",
            "Requirement already satisfied: soupsieve>1.2 in /usr/local/lib/python3.9/dist-packages (from beautifulsoup4->nbconvert->notebook>=4.4.1->widgetsnbextension~=3.6.0->ipywidgets>=7.0.0->ipysigma) (2.4)\n",
            "Requirement already satisfied: webencodings in /usr/local/lib/python3.9/dist-packages (from bleach->nbconvert->notebook>=4.4.1->widgetsnbextension~=3.6.0->ipywidgets>=7.0.0->ipysigma) (0.5.1)\n",
            "Requirement already satisfied: pycparser in /usr/local/lib/python3.9/dist-packages (from cffi>=1.0.1->argon2-cffi-bindings->argon2-cffi->notebook>=4.4.1->widgetsnbextension~=3.6.0->ipywidgets>=7.0.0->ipysigma) (2.21)\n",
            "Installing collected packages: jedi, ipysigma\n",
            "Successfully installed ipysigma-0.24.1 jedi-0.18.2\n"
          ]
        }
      ]
    },
    {
      "cell_type": "markdown",
      "source": [
        "Plot the graph using Sigma."
      ],
      "metadata": {
        "id": "_5aun8WNIyVW"
      }
    },
    {
      "cell_type": "code",
      "source": [
        "from google.colab import output\n",
        "output.enable_custom_widget_manager()\n",
        "from ipysigma import Sigma\n",
        "Sigma(G)"
      ],
      "metadata": {
        "colab": {
          "base_uri": "https://localhost:8080/",
          "height": 539,
          "referenced_widgets": [
            "aa3bc8dc79e249028d70d58b894e5852"
          ]
        },
        "id": "ry8D3kWzG7Jv",
        "outputId": "a147f31b-e40f-43a2-b7ae-3ebbda3d8ac0"
      },
      "execution_count": 6,
      "outputs": [
        {
          "output_type": "display_data",
          "data": {
            "text/plain": [
              "Sigma(nx.DiGraph with 27 nodes and 159 edges)"
            ],
            "application/vnd.jupyter.widget-view+json": {
              "version_major": 2,
              "version_minor": 0,
              "model_id": "aa3bc8dc79e249028d70d58b894e5852"
            }
          },
          "metadata": {
            "application/vnd.jupyter.widget-view+json": {
              "colab": {
                "custom_widget_manager": {
                  "url": "https://ssl.gstatic.com/colaboratory-static/widgets/colab-cdn-widget-manager/b3e629b1971e1542/manager.min.js"
                }
              }
            }
          }
        }
      ]
    },
    {
      "cell_type": "markdown",
      "source": [
        "Analysis: "
      ],
      "metadata": {
        "id": "5MUhR6ATK0A3"
      }
    },
    {
      "cell_type": "code",
      "source": [
        "sorted(G.degree, key=lambda x: x[1], reverse=True) # create list of most to least connected movies"
      ],
      "metadata": {
        "colab": {
          "base_uri": "https://localhost:8080/"
        },
        "id": "VsbcJgujK8g2",
        "outputId": "ebe8e169-64d8-4c6a-bfc7-a48025096c7e"
      },
      "execution_count": 7,
      "outputs": [
        {
          "output_type": "execute_result",
          "data": {
            "text/plain": [
              "[('1) Toy Story (1995)', 27),\n",
              " ('21) Toy Story 4 (2019)', 20),\n",
              " ('9) WALL-E (2008)', 19),\n",
              " ('5) Finding Nemo (2003)', 18),\n",
              " ('11) Toy Story 3 (2010)', 18),\n",
              " ('15) Inside Out (2015)', 18),\n",
              " ('23) Soul (2020)', 18),\n",
              " ('19) Coco (2017)', 16),\n",
              " ('4) Monsters, Inc. (2001)', 15),\n",
              " ('7) Cars (2006)', 13),\n",
              " ('8) Ratatouille (2007)', 13),\n",
              " ('2) A Bug’s Life (1998)', 12),\n",
              " ('10) Up (2009)', 11),\n",
              " ('6) The Incredibles (2004)', 10),\n",
              " ('3) Toy Story 2 (1999)', 9),\n",
              " ('22) Onward (2020)', 9),\n",
              " ('25) Turning Red (2022)', 9),\n",
              " ('12) Cars 2 (2011)', 8),\n",
              " ('17) Finding Dory (2016)', 8),\n",
              " ('26) Lightyear (2022)', 8),\n",
              " ('14) Monsters University (2013)', 7),\n",
              " ('20) Incredibles 2 (2018)', 7),\n",
              " ('24) Luca (2021)', 7),\n",
              " ('13) Brave (2012)', 6),\n",
              " ('16) The Good Dinosaur (2015)', 6),\n",
              " ('18) Cars 3 (2017)', 5),\n",
              " ('27) Elemental (2023)', 1)]"
            ]
          },
          "metadata": {},
          "execution_count": 7
        }
      ]
    },
    {
      "cell_type": "code",
      "source": [
        "#print(nx.diameter(G))\n",
        "#impossible because digraph is not strongly connected"
      ],
      "metadata": {
        "id": "BhtD0CB2lvpj"
      },
      "execution_count": 8,
      "outputs": []
    },
    {
      "cell_type": "code",
      "source": [
        "#  BETWEENNESS CENTRALITY\n",
        "\n",
        "scores=nx.betweenness_centrality(G)\n",
        "#Descending order sorting centrality\n",
        "scores_sorted=dict(sorted(scores.items(), key=lambda item: item[1],reverse=True))\n",
        "scores_sorted"
      ],
      "metadata": {
        "colab": {
          "base_uri": "https://localhost:8080/"
        },
        "id": "0tzgTcdYLnV_",
        "outputId": "5737db38-3188-4f7d-cf91-5986ae59e010"
      },
      "execution_count": 9,
      "outputs": [
        {
          "output_type": "execute_result",
          "data": {
            "text/plain": [
              "{'5) Finding Nemo (2003)': 0.19466483516483513,\n",
              " '21) Toy Story 4 (2019)': 0.1677216117216117,\n",
              " '15) Inside Out (2015)': 0.1451648351648352,\n",
              " '23) Soul (2020)': 0.10158974358974358,\n",
              " '7) Cars (2006)': 0.09414468864468864,\n",
              " '9) WALL-E (2008)': 0.09160989010989011,\n",
              " '11) Toy Story 3 (2010)': 0.05725824175824177,\n",
              " '16) The Good Dinosaur (2015)': 0.054,\n",
              " '19) Coco (2017)': 0.053294871794871794,\n",
              " '6) The Incredibles (2004)': 0.04955677655677656,\n",
              " '17) Finding Dory (2016)': 0.04942673992673992,\n",
              " '14) Monsters University (2013)': 0.049355311355311356,\n",
              " '26) Lightyear (2022)': 0.044807692307692305,\n",
              " '2) A Bug’s Life (1998)': 0.044067765567765566,\n",
              " '4) Monsters, Inc. (2001)': 0.04091025641025641,\n",
              " '20) Incredibles 2 (2018)': 0.03880769230769231,\n",
              " '22) Onward (2020)': 0.038205128205128204,\n",
              " '24) Luca (2021)': 0.03538461538461538,\n",
              " '12) Cars 2 (2011)': 0.013835164835164832,\n",
              " '8) Ratatouille (2007)': 0.013040293040293041,\n",
              " '25) Turning Red (2022)': 0.010705128205128204,\n",
              " '13) Brave (2012)': 0.009205128205128206,\n",
              " '10) Up (2009)': 0.0040384615384615385,\n",
              " '18) Cars 3 (2017)': 0.003384615384615385,\n",
              " '3) Toy Story 2 (1999)': 0.001974358974358974,\n",
              " '1) Toy Story (1995)': 0.0,\n",
              " '27) Elemental (2023)': 0.0}"
            ]
          },
          "metadata": {},
          "execution_count": 9
        }
      ]
    },
    {
      "cell_type": "code",
      "source": [
        "# DEGREE CENTRALITY\n",
        "\n",
        "scores=nx.degree_centrality(G)\n",
        "#Descending order sorting centrality\n",
        "scores_sorted=dict(sorted(scores.items(), key=lambda item: item[1],reverse=True))\n",
        "scores_sorted"
      ],
      "metadata": {
        "colab": {
          "base_uri": "https://localhost:8080/"
        },
        "id": "uZVx73ZhLvY1",
        "outputId": "736159df-cce7-408f-8a83-679567928c93"
      },
      "execution_count": 10,
      "outputs": [
        {
          "output_type": "execute_result",
          "data": {
            "text/plain": [
              "{'1) Toy Story (1995)': 1.0384615384615385,\n",
              " '21) Toy Story 4 (2019)': 0.7692307692307693,\n",
              " '9) WALL-E (2008)': 0.7307692307692308,\n",
              " '5) Finding Nemo (2003)': 0.6923076923076923,\n",
              " '11) Toy Story 3 (2010)': 0.6923076923076923,\n",
              " '15) Inside Out (2015)': 0.6923076923076923,\n",
              " '23) Soul (2020)': 0.6923076923076923,\n",
              " '19) Coco (2017)': 0.6153846153846154,\n",
              " '4) Monsters, Inc. (2001)': 0.576923076923077,\n",
              " '7) Cars (2006)': 0.5,\n",
              " '8) Ratatouille (2007)': 0.5,\n",
              " '2) A Bug’s Life (1998)': 0.46153846153846156,\n",
              " '10) Up (2009)': 0.42307692307692313,\n",
              " '6) The Incredibles (2004)': 0.38461538461538464,\n",
              " '3) Toy Story 2 (1999)': 0.34615384615384615,\n",
              " '22) Onward (2020)': 0.34615384615384615,\n",
              " '25) Turning Red (2022)': 0.34615384615384615,\n",
              " '12) Cars 2 (2011)': 0.3076923076923077,\n",
              " '17) Finding Dory (2016)': 0.3076923076923077,\n",
              " '26) Lightyear (2022)': 0.3076923076923077,\n",
              " '14) Monsters University (2013)': 0.2692307692307693,\n",
              " '20) Incredibles 2 (2018)': 0.2692307692307693,\n",
              " '24) Luca (2021)': 0.2692307692307693,\n",
              " '13) Brave (2012)': 0.23076923076923078,\n",
              " '16) The Good Dinosaur (2015)': 0.23076923076923078,\n",
              " '18) Cars 3 (2017)': 0.19230769230769232,\n",
              " '27) Elemental (2023)': 0.038461538461538464}"
            ]
          },
          "metadata": {},
          "execution_count": 10
        }
      ]
    },
    {
      "cell_type": "code",
      "source": [
        "# CLOSENESS CENTRALITY\n",
        "scores=nx.closeness_centrality(G)\n",
        "#Descending order sorting centrality\n",
        "scores_sorted=dict(sorted(scores.items(), key=lambda item: item[1],reverse=True))\n",
        "scores_sorted"
      ],
      "metadata": {
        "colab": {
          "base_uri": "https://localhost:8080/"
        },
        "id": "--D70PCxMAjh",
        "outputId": "83db1d2b-4bbb-4100-a842-00e9eba1060b"
      },
      "execution_count": 11,
      "outputs": [
        {
          "output_type": "execute_result",
          "data": {
            "text/plain": [
              "{'1) Toy Story (1995)': 0.9615384615384616,\n",
              " '4) Monsters, Inc. (2001)': 0.5987525987525988,\n",
              " '2) A Bug’s Life (1998)': 0.582995951417004,\n",
              " '5) Finding Nemo (2003)': 0.582995951417004,\n",
              " '11) Toy Story 3 (2010)': 0.5152057245080501,\n",
              " '3) Toy Story 2 (1999)': 0.4816053511705686,\n",
              " '9) WALL-E (2008)': 0.4816053511705686,\n",
              " '6) The Incredibles (2004)': 0.4713584288052373,\n",
              " '7) Cars (2006)': 0.46153846153846156,\n",
              " '10) Up (2009)': 0.46153846153846156,\n",
              " '15) Inside Out (2015)': 0.4521193092621664,\n",
              " '21) Toy Story 4 (2019)': 0.4521193092621664,\n",
              " '14) Monsters University (2013)': 0.4430769230769231,\n",
              " '8) Ratatouille (2007)': 0.4343891402714932,\n",
              " '12) Cars 2 (2011)': 0.41025641025641024,\n",
              " '20) Incredibles 2 (2018)': 0.41025641025641024,\n",
              " '16) The Good Dinosaur (2015)': 0.36923076923076925,\n",
              " '13) Brave (2012)': 0.36317780580075665,\n",
              " '19) Coco (2017)': 0.3573200992555831,\n",
              " '17) Finding Dory (2016)': 0.330654420206659,\n",
              " '26) Lightyear (2022)': 0.330654420206659,\n",
              " '22) Onward (2020)': 0.3164835164835165,\n",
              " '23) Soul (2020)': 0.3164835164835165,\n",
              " '27) Elemental (2023)': 0.2612876254180602,\n",
              " '18) Cars 3 (2017)': 0.24891961970613657,\n",
              " '24) Luca (2021)': 0.24344885883347422,\n",
              " '25) Turning Red (2022)': 0.1978021978021978}"
            ]
          },
          "metadata": {},
          "execution_count": 11
        }
      ]
    },
    {
      "cell_type": "code",
      "source": [
        "# EIGENVECTOR CENTRALITY\n",
        "scores=nx.eigenvector_centrality(G, max_iter=200)\n",
        "#Descending order sorting centrality\n",
        "scores_sorted=dict(sorted(scores.items(), key=lambda item: item[1],reverse=True))\n",
        "scores_sorted"
      ],
      "metadata": {
        "colab": {
          "base_uri": "https://localhost:8080/"
        },
        "id": "HpHPKm2mMMSl",
        "outputId": "29ceaed5-5c30-4589-95cc-6c27a0a0271d"
      },
      "execution_count": 12,
      "outputs": [
        {
          "output_type": "execute_result",
          "data": {
            "text/plain": [
              "{'1) Toy Story (1995)': 0.7200225425231882,\n",
              " '4) Monsters, Inc. (2001)': 0.2990846442281873,\n",
              " '5) Finding Nemo (2003)': 0.2852177208967696,\n",
              " '2) A Bug’s Life (1998)': 0.2681688212907507,\n",
              " '11) Toy Story 3 (2010)': 0.19294760353890364,\n",
              " '6) The Incredibles (2004)': 0.18164880760139362,\n",
              " '7) Cars (2006)': 0.17382330488056236,\n",
              " '3) Toy Story 2 (1999)': 0.1472339931325476,\n",
              " '10) Up (2009)': 0.14547667558393987,\n",
              " '9) WALL-E (2008)': 0.14384565257480963,\n",
              " '21) Toy Story 4 (2019)': 0.14081737191268026,\n",
              " '14) Monsters University (2013)': 0.11609207765755221,\n",
              " '8) Ratatouille (2007)': 0.11515217143532112,\n",
              " '12) Cars 2 (2011)': 0.08999676846905387,\n",
              " '20) Incredibles 2 (2018)': 0.07247942612148237,\n",
              " '15) Inside Out (2015)': 0.0713099787010127,\n",
              " '13) Brave (2012)': 0.056397835750040454,\n",
              " '16) The Good Dinosaur (2015)': 0.03941235894969664,\n",
              " '22) Onward (2020)': 0.037348760105968284,\n",
              " '26) Lightyear (2022)': 0.03676944422448024,\n",
              " '19) Coco (2017)': 0.036563221404314714,\n",
              " '23) Soul (2020)': 0.02285183626997383,\n",
              " '17) Finding Dory (2016)': 0.02078376747347328,\n",
              " '27) Elemental (2023)': 0.0077331719280583355,\n",
              " '24) Luca (2021)': 0.0048057850386014,\n",
              " '18) Cars 3 (2017)': 0.00437056138179565,\n",
              " '25) Turning Red (2022)': 0.0010105471517392979}"
            ]
          },
          "metadata": {},
          "execution_count": 12
        }
      ]
    },
    {
      "cell_type": "code",
      "source": [
        "# DEGREE DISTRIBUTION\n",
        "import matplotlib.pyplot as plt\n",
        "import numpy as np\n",
        "import collections\n",
        "degree_sequence = sorted([d for n, d in G.degree()], reverse=True)  # degree sequence\n",
        "# print \"Degree sequence\", degree_sequence\n",
        "degreeCount = collections.Counter(degree_sequence)\n",
        "deg, cnt = zip(*degreeCount.items())\n",
        "\n",
        "fig, ax = plt.subplots()\n",
        "plt.bar(deg, cnt, width=0.80, color='b')\n",
        "\n",
        "plt.title(\"Degree Histogram\")\n",
        "plt.ylabel(\"Count\")\n",
        "plt.xlabel(\"Degree\")\n",
        "ax.set_xticks([d + 0.4 for d in deg])\n",
        "ax.set_xticklabels(deg)\n"
      ],
      "metadata": {
        "colab": {
          "base_uri": "https://localhost:8080/",
          "height": 750
        },
        "id": "5TdpZwKMMZHw",
        "outputId": "d5b639ba-9349-4949-fa70-b9eaaf5411a1"
      },
      "execution_count": 13,
      "outputs": [
        {
          "output_type": "execute_result",
          "data": {
            "text/plain": [
              "[Text(27.4, 0, '27'),\n",
              " Text(20.4, 0, '20'),\n",
              " Text(19.4, 0, '19'),\n",
              " Text(18.4, 0, '18'),\n",
              " Text(16.4, 0, '16'),\n",
              " Text(15.4, 0, '15'),\n",
              " Text(13.4, 0, '13'),\n",
              " Text(12.4, 0, '12'),\n",
              " Text(11.4, 0, '11'),\n",
              " Text(10.4, 0, '10'),\n",
              " Text(9.4, 0, '9'),\n",
              " Text(8.4, 0, '8'),\n",
              " Text(7.4, 0, '7'),\n",
              " Text(6.4, 0, '6'),\n",
              " Text(5.4, 0, '5'),\n",
              " Text(1.4, 0, '1')]"
            ]
          },
          "metadata": {},
          "execution_count": 13
        },
        {
          "output_type": "display_data",
          "data": {
            "text/plain": [
              "<Figure size 640x480 with 1 Axes>"
            ],
            "image/png": "[encoded data removed]"
          },
          "metadata": {}
        }
      ]
    },
    {
      "cell_type": "code",
      "source": [
        "print(nx.pagerank(G))"
      ],
      "metadata": {
        "colab": {
          "base_uri": "https://localhost:8080/"
        },
        "id": "_Jjr-x3--6I0",
        "outputId": "27d403ef-db1d-4023-ca57-e25d17e51c93"
      },
      "execution_count": 14,
      "outputs": [
        {
          "output_type": "stream",
          "name": "stdout",
          "text": [
            "{'1) Toy Story (1995)': 0.6336067337029828, '2) A Bug’s Life (1998)': 0.03177645190429158, '3) Toy Story 2 (1999)': 0.014235805384531789, '4) Monsters, Inc. (2001)': 0.03222939211328196, '5) Finding Nemo (2003)': 0.030903607750569616, '6) The Incredibles (2004)': 0.015196307231312236, '7) Cars (2006)': 0.019284897517766356, '8) Ratatouille (2007)': 0.01240236543938877, '9) WALL-E (2008)': 0.01641274044465855, '10) Up (2009)': 0.015204223908672574, '11) Toy Story 3 (2010)': 0.016601531810590948, '12) Cars 2 (2011)': 0.00893454536448218, '13) Brave (2012)': 0.010459259166573302, '14) Monsters University (2013)': 0.014775566993904827, '15) Inside Out (2015)': 0.01850487686572807, '16) The Good Dinosaur (2015)': 0.012579528360400709, '17) Finding Dory (2016)': 0.009570941640866236, '18) Cars 3 (2017)': 0.007398458311356602, '19) Coco (2017)': 0.01136960711040208, '20) Incredibles 2 (2018)': 0.00895278609873212, '21) Toy Story 4 (2019)': 0.01458228980920991, '22) Onward (2020)': 0.007584299403281454, '23) Soul (2020)': 0.010187782673086752, '24) Luca (2021)': 0.0061044351701318045, '25) Turning Red (2022)': 0.006636163914779288, '26) Lightyear (2022)': 0.007650235833099364, '27) Elemental (2023)': 0.0068551660759176986}\n"
          ]
        }
      ]
    }
  ]
}